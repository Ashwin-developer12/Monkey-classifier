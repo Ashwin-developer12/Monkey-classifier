{
 "cells": [
  {
   "cell_type": "code",
   "execution_count": 1,
   "id": "78e53185",
   "metadata": {},
   "outputs": [],
   "source": [
    "import tensorflow as tf\n",
    "from tensorflow import keras\n",
    "from keras.preprocessing.image import ImageDataGenerator"
   ]
  },
  {
   "cell_type": "code",
   "execution_count": 2,
   "id": "3d3bdbb3",
   "metadata": {},
   "outputs": [],
   "source": [
    "import pandas as pd\n",
    "import numpy as np\n",
    "import matplotlib.pyplot as plt\n",
    "import seaborn as sns"
   ]
  },
  {
   "cell_type": "code",
   "execution_count": 3,
   "id": "54a595ca",
   "metadata": {},
   "outputs": [],
   "source": [
    "import os\n",
    "import random\n",
    "import shutil\n",
    "import glob"
   ]
  },
  {
   "cell_type": "code",
   "execution_count": 4,
   "id": "3afc87e3",
   "metadata": {},
   "outputs": [],
   "source": [
    "os.chdir(r'C:\\Users\\user\\Desktop\\Jupyter\\Datasets\\monkey')"
   ]
  },
  {
   "cell_type": "code",
   "execution_count": 5,
   "id": "4adfa551",
   "metadata": {},
   "outputs": [],
   "source": [
    "train_datagen = ImageDataGenerator(rescale = 1./255)"
   ]
  },
  {
   "cell_type": "code",
   "execution_count": 6,
   "id": "dc64bdde",
   "metadata": {},
   "outputs": [
    {
     "name": "stdout",
     "output_type": "stream",
     "text": [
      "Found 1098 images belonging to 10 classes.\n"
     ]
    }
   ],
   "source": [
    "train_dir = train_datagen.flow_from_directory(\n",
    "                                            r'C:\\Users\\user\\Desktop\\Jupyter\\Datasets\\monkey\\train',\n",
    "                                            target_size = (150, 150),\n",
    "                                            batch_size = 50,\n",
    "                                            classes = ['n0','n1','n2', 'n3', 'n4', 'n5' ,'n6', 'n7', 'n8', 'n9']\n",
    ")"
   ]
  },
  {
   "cell_type": "code",
   "execution_count": 8,
   "id": "d8ce181c",
   "metadata": {},
   "outputs": [],
   "source": [
    "model = keras.Sequential([\n",
    "    keras.layers.Conv2D(filters = 16, kernel_size = (3,3), padding = 'same', input_shape =(150, 150, 3), activation='relu'),\n",
    "    keras.layers.MaxPool2D(pool_size =( 2,2), strides =2),\n",
    "    keras.layers.Conv2D(filters = 32, kernel_size = (3,3), padding = 'same', activation ='relu'),\n",
    "    keras.layers.MaxPool2D(pool_size =( 2,2), strides =2),\n",
    "    keras.layers.Conv2D(filters = 64,kernel_size = (3,3), padding = 'same', activation ='relu'),\n",
    "    keras.layers.MaxPool2D(pool_size =( 2,2), strides =2),\n",
    "    keras.layers.Flatten(),\n",
    "    keras.layers.Dense(128, activation ='relu'),\n",
    "    keras.layers.Dense(10, activation ='softmax')\n",
    "])"
   ]
  },
  {
   "cell_type": "code",
   "execution_count": 9,
   "id": "d108aa82",
   "metadata": {},
   "outputs": [],
   "source": [
    "model.compile(loss='categorical_crossentropy', optimizer ='adam', metrics =['accuracy'])"
   ]
  },
  {
   "cell_type": "code",
   "execution_count": 10,
   "id": "4aa88374",
   "metadata": {},
   "outputs": [
    {
     "name": "stdout",
     "output_type": "stream",
     "text": [
      "Epoch 1/10\n",
      "22/22 [==============================] - 25s 1s/step - loss: 2.0622 - accuracy: 0.2678\n",
      "Epoch 2/10\n",
      "22/22 [==============================] - 23s 1s/step - loss: 1.4418 - accuracy: 0.5027\n",
      "Epoch 3/10\n",
      "22/22 [==============================] - 20s 925ms/step - loss: 1.0489 - accuracy: 0.6421\n",
      "Epoch 4/10\n",
      "22/22 [==============================] - 21s 943ms/step - loss: 0.8006 - accuracy: 0.7332\n",
      "Epoch 5/10\n",
      "22/22 [==============================] - 20s 922ms/step - loss: 0.4883 - accuracy: 0.8488\n",
      "Epoch 6/10\n",
      "22/22 [==============================] - 21s 939ms/step - loss: 0.3015 - accuracy: 0.9153\n",
      "Epoch 7/10\n",
      "22/22 [==============================] - 21s 941ms/step - loss: 0.1675 - accuracy: 0.9563\n",
      "Epoch 8/10\n",
      "22/22 [==============================] - 23s 1s/step - loss: 0.0780 - accuracy: 0.9891\n",
      "Epoch 9/10\n",
      "22/22 [==============================] - 23s 1s/step - loss: 0.0447 - accuracy: 0.9936\n",
      "Epoch 10/10\n",
      "22/22 [==============================] - 86s 4s/step - loss: 0.0356 - accuracy: 0.9936\n"
     ]
    },
    {
     "data": {
      "text/plain": [
       "<keras.callbacks.History at 0x1887711afa0>"
      ]
     },
     "execution_count": 10,
     "metadata": {},
     "output_type": "execute_result"
    }
   ],
   "source": [
    "model.fit(train_dir, epochs = 10)"
   ]
  },
  {
   "cell_type": "code",
   "execution_count": null,
   "id": "fd299ebc",
   "metadata": {},
   "outputs": [],
   "source": []
  }
 ],
 "metadata": {
  "kernelspec": {
   "display_name": "Python 3 (ipykernel)",
   "language": "python",
   "name": "python3"
  },
  "language_info": {
   "codemirror_mode": {
    "name": "ipython",
    "version": 3
   },
   "file_extension": ".py",
   "mimetype": "text/x-python",
   "name": "python",
   "nbconvert_exporter": "python",
   "pygments_lexer": "ipython3",
   "version": "3.8.7"
  }
 },
 "nbformat": 4,
 "nbformat_minor": 5
}
